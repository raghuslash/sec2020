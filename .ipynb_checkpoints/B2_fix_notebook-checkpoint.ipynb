{
 "cells": [
  {
   "cell_type": "code",
   "execution_count": 1,
   "metadata": {},
   "outputs": [],
   "source": [
    "import keras\n",
    "import sys\n",
    "import h5py\n",
    "import numpy as np\n",
    "import matplotlib.pyplot as plt\n",
    "import keract"
   ]
  },
  {
   "cell_type": "code",
   "execution_count": 2,
   "metadata": {},
   "outputs": [],
   "source": [
    "# Helper functions to load data\n",
    "\n",
    "def data_loader(filepath):\n",
    "    data = h5py.File(filepath, 'r')\n",
    "    x_data = np.array(data['data'])\n",
    "    y_data = np.array(data['label'])\n",
    "    x_data = x_data.transpose((0,2,3,1))\n",
    "    return x_data/255.0, y_data"
   ]
  },
  {
   "cell_type": "markdown",
   "metadata": {},
   "source": [
    "Define paths to the model and data files"
   ]
  },
  {
   "cell_type": "code",
   "execution_count": 3,
   "metadata": {},
   "outputs": [],
   "source": [
    "model_path = 'models/anonymous_bd_net.h5'\n",
    "clean_data_path = 'data/clean_test_data.h5'\n",
    "pois_data_path = 'data/anonymous_1_poisoned_data.h5'\n",
    "val_data_path = 'data/clean_validation_data.h5'"
   ]
  },
  {
   "cell_type": "markdown",
   "metadata": {},
   "source": [
    "Load in data from the h5 files"
   ]
  },
  {
   "cell_type": "code",
   "execution_count": 4,
   "metadata": {},
   "outputs": [],
   "source": [
    "bd_model = keras.models.load_model(model_path)\n",
    "x_clean, y_clean = data_loader(clean_data_path)\n",
    "x_pois, y_pois = data_loader(pois_data_path)\n",
    "x_val, y_val = data_loader(val_data_path)"
   ]
  },
  {
   "cell_type": "markdown",
   "metadata": {},
   "source": [
    "Now let's use keract to extract representations form the Badnet from the 2nd last layer"
   ]
  },
  {
   "cell_type": "code",
   "execution_count": 5,
   "metadata": {},
   "outputs": [],
   "source": [
    "lname = 'add_1'\n",
    "target = y_pois[0]\n",
    "\n",
    "rep_clean = keract.get_activations(bd_model, x_clean, layer_names=lname, nodes_to_evaluate=None, output_format='simple', nested=False, auto_compile=True)[lname]\n",
    "rep_pois = keract.get_activations(bd_model, x_pois, layer_names=lname, nodes_to_evaluate=None, output_format='simple', nested=False, auto_compile=True)[lname]\n",
    "rep_val = keract.get_activations(bd_model, x_val, layer_names=lname, nodes_to_evaluate=None, output_format='simple', nested=False, auto_compile=True)[lname]"
   ]
  },
  {
   "cell_type": "markdown",
   "metadata": {},
   "source": [
    "We choose create a representation matrix M such that it captures the changes that the poisoning is trying to cause"
   ]
  },
  {
   "cell_type": "code",
   "execution_count": 6,
   "metadata": {},
   "outputs": [],
   "source": [
    "M = rep_pois - rep_clean.mean(axis=0)"
   ]
  },
  {
   "cell_type": "markdown",
   "metadata": {},
   "source": [
    "Let's now perform SVD on this matrix"
   ]
  },
  {
   "cell_type": "code",
   "execution_count": 7,
   "metadata": {},
   "outputs": [],
   "source": [
    "u, s, vh = np.linalg.svd(M, full_matrices=False)"
   ]
  },
  {
   "cell_type": "markdown",
   "metadata": {},
   "source": [
    "We'll use the top right singular vector which has the highest weight to find the presence of the poisoning"
   ]
  },
  {
   "cell_type": "code",
   "execution_count": 8,
   "metadata": {},
   "outputs": [],
   "source": [
    "v = vh[0].transpose()"
   ]
  },
  {
   "cell_type": "code",
   "execution_count": 9,
   "metadata": {},
   "outputs": [
    {
     "data": {
      "text/plain": [
       "-291.18063"
      ]
     },
     "execution_count": 9,
     "metadata": {},
     "output_type": "execute_result"
    }
   ],
   "source": [
    "cor_pois = np.dot(rep_pois, v)\n",
    "cor_pois.mean()"
   ]
  },
  {
   "cell_type": "markdown",
   "metadata": {},
   "source": [
    "We'll use normal approximation intervals to find the thresholds"
   ]
  },
  {
   "cell_type": "code",
   "execution_count": 41,
   "metadata": {},
   "outputs": [
    {
     "data": {
      "text/plain": [
       "(-576.3327200164795, -6.028547073364223)"
      ]
     },
     "execution_count": 41,
     "metadata": {},
     "output_type": "execute_result"
    }
   ],
   "source": [
    "c_stds = 2.326 # 98 % interval\n",
    "cor_pois_L, cor_pois_H = cor_pois.mean() - c_stds * cor_pois.std(), cor_pois.mean() + c_stds * cor_pois.std()\n",
    "cor_pois_L, cor_pois_H"
   ]
  },
  {
   "cell_type": "markdown",
   "metadata": {},
   "source": [
    "Now we use our hypothesis that if the corellation is this range, the input has been poisoned.\n",
    "\n",
    "ie. we would expect it to be much higher if it really was the true label or expect it to be much lower if the it actually should have predicted another label"
   ]
  },
  {
   "cell_type": "code",
   "execution_count": 50,
   "metadata": {},
   "outputs": [
    {
     "name": "stdout",
     "output_type": "stream",
     "text": [
      "Percent detected as poisoned: 92.21551052221356\n"
     ]
    }
   ],
   "source": [
    "cor_pois = np.dot(rep_pois, v)\n",
    "detections = (cor_pois > cor_pois_L) & (cor_pois < cor_pois_H)\n",
    "print('Percent detected as poisoned:', detections.sum()/rep_pois.shape[0] * 100)"
   ]
  },
  {
   "cell_type": "code",
   "execution_count": 43,
   "metadata": {},
   "outputs": [
    {
     "data": {
      "text/plain": [
       "22.895584"
      ]
     },
     "execution_count": 43,
     "metadata": {},
     "output_type": "execute_result"
    }
   ],
   "source": [
    "cor_clean = np.dot(rep_clean, v)\n",
    "cor_clean.mean()"
   ]
  },
  {
   "cell_type": "code",
   "execution_count": 44,
   "metadata": {},
   "outputs": [
    {
     "name": "stdout",
     "output_type": "stream",
     "text": [
      "Percent detected as poisoned: 10.872954014029618\n"
     ]
    }
   ],
   "source": [
    "detections = (cor_clean > cor_pois_L) & (cor_clean < cor_pois_H)\n",
    "print('Percent detected as poisoned:', detections.sum()/rep_clean.shape[0] * 100)"
   ]
  },
  {
   "cell_type": "code",
   "execution_count": 45,
   "metadata": {},
   "outputs": [
    {
     "data": {
      "text/plain": [
       "-148.0742"
      ]
     },
     "execution_count": 45,
     "metadata": {},
     "output_type": "execute_result"
    }
   ],
   "source": [
    "cor_val = np.dot(rep_val, v)\n",
    "cor_val.min()"
   ]
  },
  {
   "cell_type": "code",
   "execution_count": 46,
   "metadata": {},
   "outputs": [
    {
     "name": "stdout",
     "output_type": "stream",
     "text": [
      "Percent detected as poisoned: 10.877284143067463\n"
     ]
    }
   ],
   "source": [
    "detections = (cor_val > cor_pois_L) & (cor_val < cor_pois_H)\n",
    "print('Percent detected as poisoned:', detections.sum()/rep_val.shape[0] * 100)"
   ]
  },
  {
   "cell_type": "markdown",
   "metadata": {},
   "source": [
    "Hence we are able to capture all the poisoned data but with about 2% false positive rate on clean inputs"
   ]
  },
  {
   "cell_type": "markdown",
   "metadata": {},
   "source": [
    "We see that rightly so, not all of the images are poisoned"
   ]
  },
  {
   "cell_type": "code",
   "execution_count": 52,
   "metadata": {},
   "outputs": [
    {
     "data": {
      "text/plain": [
       "(array([   27,    30,    34,    64,    70,    71,    89,   115,   121,\n",
       "          148,   149,   160,   180,   184,   216,   217,   244,   270,\n",
       "          296,   297,   298,   313,   321,   339,   345,   356,   359,\n",
       "          367,   370,   380,   406,   411,   427,   428,   455,   468,\n",
       "          477,   521,   555,   565,   586,   593,   614,   618,   620,\n",
       "          629,   633,   639,   644,   646,   647,   654,   675,   676,\n",
       "          715,   722,   729,   737,   753,   758,   776,   782,   807,\n",
       "          828,   829,   841,   853,   861,   866,   868,   876,   878,\n",
       "          892,   896,   904,   911,   928,   933,   936,   947,   962,\n",
       "          978,   979,   981,   982,   983,  1007,  1056,  1069,  1099,\n",
       "         1138,  1144,  1145,  1181,  1204,  1225,  1242,  1251,  1262,\n",
       "         1270,  1279,  1288,  1290,  1292,  1303,  1329,  1363,  1394,\n",
       "         1395,  1413,  1419,  1420,  1434,  1435,  1438,  1455,  1462,\n",
       "         1480,  1481,  1507,  1531,  1534,  1551,  1559,  1564,  1580,\n",
       "         1589,  1625,  1629,  1630,  1633,  1666,  1667,  1679,  1684,\n",
       "         1704,  1713,  1730,  1732,  1739,  1750,  1752,  1755,  1762,\n",
       "         1783,  1794,  1800,  1805,  1818,  1829,  1832,  1835,  1840,\n",
       "         1886,  1974,  1996,  2032,  2040,  2049,  2058,  2084,  2093,\n",
       "         2105,  2108,  2115,  2122,  2123,  2124,  2128,  2147,  2162,\n",
       "         2168,  2189,  2191,  2207,  2260,  2281,  2309,  2321,  2329,\n",
       "         2332,  2334,  2353,  2358,  2405,  2420,  2426,  2435,  2440,\n",
       "         2446,  2450,  2452,  2454,  2455,  2466,  2469,  2490,  2502,\n",
       "         2523,  2543,  2548,  2573,  2596,  2598,  2607,  2634,  2645,\n",
       "         2664,  2668,  2673,  2683,  2687,  2690,  2708,  2713,  2714,\n",
       "         2721,  2775,  2781,  2787,  2807,  2838,  2839,  2841,  2872,\n",
       "         2882,  2887,  2898,  2918,  2920,  2931,  2932,  2955,  2966,\n",
       "         2981,  3011,  3032,  3048,  3054,  3065,  3074,  3076,  3102,\n",
       "         3126,  3142,  3146,  3147,  3158,  3178,  3180,  3199,  3204,\n",
       "         3221,  3239,  3245,  3265,  3269,  3292,  3318,  3326,  3336,\n",
       "         3377,  3392,  3438,  3458,  3482,  3491,  3493,  3500,  3519,\n",
       "         3524,  3548,  3563,  3617,  3621,  3627,  3631,  3637,  3667,\n",
       "         3699,  3787,  3806,  3816,  3824,  3841,  3878,  3884,  3907,\n",
       "         3911,  3914,  3920,  3926,  3949,  3957,  3973,  3989,  4022,\n",
       "         4042,  4058,  4089,  4102,  4143,  4185,  4194,  4206,  4210,\n",
       "         4245,  4247,  4281,  4289,  4307,  4320,  4345,  4350,  4357,\n",
       "         4361,  4378,  4389,  4407,  4417,  4422,  4449,  4463,  4466,\n",
       "         4480,  4486,  4490,  4492,  4494,  4498,  4505,  4518,  4519,\n",
       "         4520,  4535,  4537,  4539,  4543,  4564,  4604,  4616,  4625,\n",
       "         4639,  4648,  4653,  4654,  4659,  4686,  4690,  4699,  4711,\n",
       "         4714,  4716,  4731,  4733,  4741,  4743,  4750,  4754,  4756,\n",
       "         4770,  4774,  4825,  4836,  4853,  4872,  4874,  4878,  4882,\n",
       "         4892,  4934,  4936,  4962,  4963,  4964,  4981,  4991,  5010,\n",
       "         5049,  5056,  5063,  5074,  5077,  5107,  5108,  5113,  5141,\n",
       "         5196,  5221,  5232,  5237,  5267,  5280,  5307,  5320,  5321,\n",
       "         5325,  5340,  5344,  5353,  5375,  5390,  5391,  5403,  5408,\n",
       "         5429,  5447,  5479,  5488,  5497,  5512,  5539,  5541,  5554,\n",
       "         5561,  5574,  5588,  5611,  5616,  5621,  5643,  5666,  5681,\n",
       "         5692,  5695,  5697,  5728,  5739,  5743,  5763,  5769,  5782,\n",
       "         5796,  5806,  5808,  5816,  5835,  5843,  5852,  5870,  5881,\n",
       "         5902,  5906,  5914,  5930,  5934,  5941,  5952,  5962,  5971,\n",
       "         5973,  5976,  5984,  5988,  6009,  6012,  6021,  6038,  6070,\n",
       "         6072,  6073,  6081,  6085,  6087,  6097,  6120,  6121,  6165,\n",
       "         6170,  6172,  6202,  6259,  6267,  6274,  6306,  6314,  6372,\n",
       "         6387,  6388,  6395,  6401,  6412,  6435,  6438,  6451,  6455,\n",
       "         6460,  6464,  6481,  6492,  6518,  6555,  6574,  6593,  6595,\n",
       "         6597,  6609,  6615,  6621,  6624,  6626,  6629,  6642,  6666,\n",
       "         6670,  6678,  6690,  6704,  6707,  6714,  6728,  6737,  6753,\n",
       "         6758,  6769,  6797,  6801,  6811,  6831,  6833,  6836,  6858,\n",
       "         6863,  6873,  6906,  6934,  6939,  6941,  6964,  6971,  7019,\n",
       "         7021,  7050,  7071,  7087,  7090,  7100,  7116,  7140,  7145,\n",
       "         7182,  7194,  7195,  7209,  7212,  7233,  7234,  7263,  7283,\n",
       "         7289,  7307,  7324,  7326,  7327,  7339,  7355,  7382,  7387,\n",
       "         7390,  7398,  7426,  7428,  7432,  7434,  7469,  7495,  7530,\n",
       "         7550,  7557,  7562,  7566,  7582,  7584,  7594,  7615,  7646,\n",
       "         7654,  7671,  7692,  7718,  7728,  7730,  7740,  7779,  7796,\n",
       "         7810,  7815,  7817,  7819,  7825,  7843,  7856,  7866,  7870,\n",
       "         7873,  7882,  7887,  7903,  7910,  7915,  7921,  7939,  7950,\n",
       "         7958,  7960,  7961,  7964,  7974,  8005,  8020,  8046,  8056,\n",
       "         8058,  8065,  8069,  8077,  8087,  8094,  8114,  8120,  8133,\n",
       "         8141,  8147,  8150,  8157,  8167,  8174,  8178,  8191,  8199,\n",
       "         8207,  8213,  8249,  8255,  8271,  8286,  8292,  8331,  8345,\n",
       "         8356,  8372,  8381,  8387,  8416,  8428,  8464,  8470,  8489,\n",
       "         8490,  8503,  8509,  8520,  8532,  8533,  8541,  8544,  8548,\n",
       "         8566,  8570,  8573,  8594,  8597,  8612,  8615,  8616,  8641,\n",
       "         8659,  8667,  8681,  8687,  8710,  8727,  8734,  8738,  8743,\n",
       "         8764,  8778,  8788,  8791,  8799,  8806,  8832,  8834,  8837,\n",
       "         8861,  8876,  8894,  8900,  8904,  8929,  8933,  8934,  8945,\n",
       "         8978,  8983,  8996,  9001,  9008,  9012,  9016,  9017,  9018,\n",
       "         9019,  9034,  9051,  9069,  9088,  9091,  9128,  9149,  9181,\n",
       "         9186,  9193,  9208,  9226,  9231,  9237,  9241,  9303,  9315,\n",
       "         9321,  9331,  9349,  9353,  9355,  9358,  9400,  9428,  9443,\n",
       "         9461,  9490,  9529,  9546,  9553,  9572,  9580,  9590,  9603,\n",
       "         9614,  9631,  9632,  9635,  9636,  9644,  9657,  9680,  9682,\n",
       "         9684,  9721,  9740,  9749,  9757,  9762,  9774,  9813,  9815,\n",
       "         9820,  9822,  9838,  9840,  9842,  9858,  9868,  9872,  9879,\n",
       "         9896,  9905,  9908,  9929,  9931,  9968,  9972,  9978,  9979,\n",
       "         9982,  9984,  9993, 10010, 10011, 10014, 10044, 10045, 10048,\n",
       "        10072, 10073, 10084, 10086, 10104, 10160, 10169, 10183, 10195,\n",
       "        10198, 10223, 10225, 10234, 10243, 10244, 10251], dtype=int64),)"
      ]
     },
     "execution_count": 52,
     "metadata": {},
     "output_type": "execute_result"
    }
   ],
   "source": [
    "detections = (cor_pois > cor_pois_L) & (cor_pois < cor_pois_H)\n",
    "np.where(detections==False)"
   ]
  },
  {
   "cell_type": "code",
   "execution_count": 54,
   "metadata": {},
   "outputs": [
    {
     "data": {
      "text/plain": [
       "<matplotlib.image.AxesImage at 0x2c064c81d60>"
      ]
     },
     "execution_count": 54,
     "metadata": {},
     "output_type": "execute_result"
    },
    {
     "data": {
      "image/png": "[encoded data removed]",
      "text/plain": [
       "<Figure size 432x288 with 1 Axes>"
      ]
     },
     "metadata": {
      "needs_background": "light"
     },
     "output_type": "display_data"
    }
   ],
   "source": [
    "plt.imshow(x_pois[9908])"
   ]
  }
 ],
 "metadata": {
  "kernelspec": {
   "display_name": "Python 3",
   "language": "python",
   "name": "python3"
  },
  "language_info": {
   "codemirror_mode": {
    "name": "ipython",
    "version": 3
   },
   "file_extension": ".py",
   "mimetype": "text/x-python",
   "name": "python",
   "nbconvert_exporter": "python",
   "pygments_lexer": "ipython3",
   "version": "3.8.5"
  }
 },
 "nbformat": 4,
 "nbformat_minor": 4
}
