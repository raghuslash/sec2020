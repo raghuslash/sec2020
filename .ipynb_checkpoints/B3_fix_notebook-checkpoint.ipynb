{
 "cells": [
  {
   "cell_type": "code",
   "execution_count": 1,
   "metadata": {},
   "outputs": [],
   "source": [
    "import keras\n",
    "import sys\n",
    "import h5py\n",
    "import numpy as np\n",
    "import matplotlib.pyplot as plt\n",
    "import keract"
   ]
  },
  {
   "cell_type": "code",
   "execution_count": 2,
   "metadata": {},
   "outputs": [],
   "source": [
    "# Helper functions to load data\n",
    "\n",
    "def data_loader(filepath):\n",
    "    data = h5py.File(filepath, 'r')\n",
    "    x_data = np.array(data['data'])\n",
    "    y_data = np.array(data['label'])\n",
    "    x_data = x_data.transpose((0,2,3,1))\n",
    "    return x_data/255.0, y_data"
   ]
  },
  {
   "cell_type": "markdown",
   "metadata": {},
   "source": [
    "Define paths to the model and data files"
   ]
  },
  {
   "cell_type": "code",
   "execution_count": 3,
   "metadata": {},
   "outputs": [],
   "source": [
    "model_path = 'models/multi_trigger_multi_target_bd_net.h5'\n",
    "clean_data_path = 'data/clean_test_data.h5'\n",
    "pois_data_path = 'data/eyebrows_poisoned_data.h5'\n",
    "val_data_path = 'data/clean_validation_data.h5'"
   ]
  },
  {
   "cell_type": "markdown",
   "metadata": {},
   "source": [
    "Load in data from the h5 files"
   ]
  },
  {
   "cell_type": "code",
   "execution_count": 4,
   "metadata": {},
   "outputs": [],
   "source": [
    "bd_model = keras.models.load_model(model_path)\n",
    "x_clean, y_clean = data_loader(clean_data_path)\n",
    "x_pois, y_pois = data_loader(pois_data_path)\n",
    "x_val, y_val = data_loader(val_data_path)"
   ]
  },
  {
   "cell_type": "markdown",
   "metadata": {},
   "source": [
    "Now let's use keract to extract representations form the Badnet from the 2nd last layer"
   ]
  },
  {
   "cell_type": "code",
   "execution_count": 5,
   "metadata": {},
   "outputs": [],
   "source": [
    "lname = 'add_1'\n",
    "target = y_pois[0]\n",
    "\n",
    "rep_clean = keract.get_activations(bd_model, x_clean, layer_names=lname, nodes_to_evaluate=None, output_format='simple', nested=False, auto_compile=True)[lname]\n",
    "rep_pois = keract.get_activations(bd_model, x_pois, layer_names=lname, nodes_to_evaluate=None, output_format='simple', nested=False, auto_compile=True)[lname]\n",
    "rep_val = keract.get_activations(bd_model, x_val, layer_names=lname, nodes_to_evaluate=None, output_format='simple', nested=False, auto_compile=True)[lname]"
   ]
  },
  {
   "cell_type": "markdown",
   "metadata": {},
   "source": [
    "We choose create a representation matrix M such that it captures the changes that the poisoning is trying to cause"
   ]
  },
  {
   "cell_type": "code",
   "execution_count": 6,
   "metadata": {},
   "outputs": [],
   "source": [
    "M = rep_pois - rep_clean.mean(axis=0)"
   ]
  },
  {
   "cell_type": "markdown",
   "metadata": {},
   "source": [
    "Let's now perform SVD on this matrix"
   ]
  },
  {
   "cell_type": "code",
   "execution_count": 7,
   "metadata": {},
   "outputs": [],
   "source": [
    "u, s, vh = np.linalg.svd(M, full_matrices=False)"
   ]
  },
  {
   "cell_type": "markdown",
   "metadata": {},
   "source": [
    "We'll use the top right singular vector which has the highest weight to find the presence of the poisoning"
   ]
  },
  {
   "cell_type": "code",
   "execution_count": 8,
   "metadata": {},
   "outputs": [],
   "source": [
    "v = vh[0].transpose()"
   ]
  },
  {
   "cell_type": "code",
   "execution_count": 9,
   "metadata": {},
   "outputs": [
    {
     "data": {
      "text/plain": [
       "-510.9987"
      ]
     },
     "execution_count": 9,
     "metadata": {},
     "output_type": "execute_result"
    }
   ],
   "source": [
    "cor_pois = np.dot(rep_pois, v)\n",
    "cor_pois.mean()"
   ]
  },
  {
   "cell_type": "markdown",
   "metadata": {},
   "source": [
    "We'll use normal approximation intervals to find the thresholds"
   ]
  },
  {
   "cell_type": "code",
   "execution_count": 10,
   "metadata": {},
   "outputs": [
    {
     "data": {
      "text/plain": [
       "(-943.6827793273926, -78.31459616088864)"
      ]
     },
     "execution_count": 10,
     "metadata": {},
     "output_type": "execute_result"
    }
   ],
   "source": [
    "c_stds = 2.326 # 98 % interval\n",
    "cor_pois_L, cor_pois_H = cor_pois.mean() - c_stds * cor_pois.std(), cor_pois.mean() + c_stds * cor_pois.std()\n",
    "cor_pois_L, cor_pois_H"
   ]
  },
  {
   "cell_type": "markdown",
   "metadata": {},
   "source": [
    "Now we use our hypothesis that if the corellation is this range, the input has been poisoned.\n",
    "\n",
    "ie. we would expect it to be much higher if it really was the true label or expect it to be much lower if the it actually should have predicted another label"
   ]
  },
  {
   "cell_type": "code",
   "execution_count": 11,
   "metadata": {},
   "outputs": [
    {
     "name": "stdout",
     "output_type": "stream",
     "text": [
      "Percent detected as poisoned: 93.28721745908028\n"
     ]
    }
   ],
   "source": [
    "cor_pois = np.dot(rep_pois, v)\n",
    "detections = (cor_pois > cor_pois_L) & (cor_pois < cor_pois_H)\n",
    "print('Percent detected as poisoned:', detections.sum()/rep_pois.shape[0] * 100)"
   ]
  },
  {
   "cell_type": "code",
   "execution_count": 12,
   "metadata": {},
   "outputs": [
    {
     "data": {
      "text/plain": [
       "-13.720533"
      ]
     },
     "execution_count": 12,
     "metadata": {},
     "output_type": "execute_result"
    }
   ],
   "source": [
    "cor_clean = np.dot(rep_clean, v)\n",
    "cor_clean.mean()"
   ]
  },
  {
   "cell_type": "code",
   "execution_count": 13,
   "metadata": {},
   "outputs": [
    {
     "name": "stdout",
     "output_type": "stream",
     "text": [
      "Percent detected as poisoned: 11.176929072486361\n"
     ]
    }
   ],
   "source": [
    "detections = (cor_clean > cor_pois_L) & (cor_clean < cor_pois_H)\n",
    "print('Percent detected as poisoned:', detections.sum()/rep_clean.shape[0] * 100)"
   ]
  },
  {
   "cell_type": "code",
   "execution_count": 14,
   "metadata": {},
   "outputs": [
    {
     "data": {
      "text/plain": [
       "-360.71423"
      ]
     },
     "execution_count": 14,
     "metadata": {},
     "output_type": "execute_result"
    }
   ],
   "source": [
    "cor_val = np.dot(rep_val, v)\n",
    "cor_val.min()"
   ]
  },
  {
   "cell_type": "code",
   "execution_count": 15,
   "metadata": {},
   "outputs": [
    {
     "name": "stdout",
     "output_type": "stream",
     "text": [
      "Percent detected as poisoned: 11.189053433792328\n"
     ]
    }
   ],
   "source": [
    "detections = (cor_val > cor_pois_L) & (cor_val < cor_pois_H)\n",
    "print('Percent detected as poisoned:', detections.sum()/rep_val.shape[0] * 100)"
   ]
  },
  {
   "cell_type": "markdown",
   "metadata": {},
   "source": [
    "Hence we are able to capture all the poisoned data but with about 2% false positive rate on clean inputs"
   ]
  },
  {
   "cell_type": "markdown",
   "metadata": {},
   "source": [
    "We see that rightly so, not all of the images are poisoned"
   ]
  },
  {
   "cell_type": "code",
   "execution_count": 16,
   "metadata": {},
   "outputs": [
    {
     "data": {
      "text/plain": [
       "(array([    7,    27,    30,    38,    64,    70,    71,    89,   115,\n",
       "          121,   148,   160,   184,   199,   217,   244,   296,   297,\n",
       "          298,   313,   315,   339,   351,   356,   359,   367,   370,\n",
       "          411,   417,   427,   428,   455,   468,   471,   477,   500,\n",
       "          535,   548,   549,   555,   565,   586,   593,   629,   633,\n",
       "          646,   654,   675,   715,   722,   729,   758,   813,   828,\n",
       "          841,   853,   861,   866,   868,   878,   896,   905,   911,\n",
       "          924,   936,   947,   978,   979,   981,   982,   983,   993,\n",
       "         1056,  1072,  1099,  1133,  1138,  1141,  1204,  1242,  1251,\n",
       "         1262,  1270,  1288,  1292,  1363,  1394,  1413,  1419,  1420,\n",
       "         1424,  1435,  1455,  1462,  1480,  1481,  1507,  1531,  1534,\n",
       "         1551,  1559,  1564,  1573,  1580,  1625,  1629,  1630,  1633,\n",
       "         1666,  1667,  1679,  1704,  1730,  1732,  1737,  1755,  1783,\n",
       "         1794,  1800,  1805,  1818,  1829,  1832,  1835,  1840,  1886,\n",
       "         1974,  2032,  2040,  2045,  2058,  2084,  2115,  2122,  2124,\n",
       "         2147,  2168,  2189,  2191,  2207,  2279,  2281,  2329,  2332,\n",
       "         2334,  2358,  2381,  2420,  2426,  2435,  2437,  2446,  2450,\n",
       "         2452,  2454,  2455,  2459,  2469,  2473,  2490,  2502,  2523,\n",
       "         2548,  2561,  2573,  2596,  2598,  2607,  2634,  2645,  2668,\n",
       "         2673,  2683,  2687,  2690,  2708,  2713,  2714,  2721,  2775,\n",
       "         2807,  2838,  2839,  2842,  2872,  2882,  2887,  2893,  2898,\n",
       "         2932,  2942,  2966,  2981,  3011,  3032,  3043,  3065,  3076,\n",
       "         3084,  3102,  3113,  3126,  3142,  3146,  3147,  3158,  3178,\n",
       "         3181,  3199,  3204,  3221,  3237,  3245,  3265,  3269,  3318,\n",
       "         3326,  3336,  3348,  3360,  3392,  3438,  3482,  3491,  3493,\n",
       "         3519,  3524,  3548,  3563,  3586,  3591,  3610,  3617,  3627,\n",
       "         3637,  3687,  3787,  3806,  3816,  3824,  3841,  3878,  3884,\n",
       "         3907,  3914,  3957,  3973,  3989,  4022,  4042,  4046,  4058,\n",
       "         4089,  4102,  4143,  4185,  4210,  4245,  4247,  4266,  4281,\n",
       "         4319,  4345,  4350,  4361,  4378,  4389,  4402,  4417,  4422,\n",
       "         4430,  4449,  4463,  4466,  4480,  4486,  4490,  4492,  4494,\n",
       "         4498,  4505,  4518,  4520,  4535,  4537,  4543,  4577,  4604,\n",
       "         4616,  4625,  4639,  4648,  4653,  4654,  4685,  4686,  4687,\n",
       "         4690,  4699,  4714,  4716,  4728,  4733,  4743,  4750,  4756,\n",
       "         4770,  4774,  4807,  4825,  4836,  4853,  4872,  4874,  4878,\n",
       "         4882,  4892,  4951,  4962,  4964,  4991,  5010,  5048,  5049,\n",
       "         5054,  5056,  5063,  5074,  5077,  5108,  5113,  5128,  5189,\n",
       "         5216,  5221,  5232,  5239,  5280,  5320,  5325,  5336,  5340,\n",
       "         5344,  5353,  5375,  5390,  5391,  5400,  5403,  5408,  5429,\n",
       "         5447,  5479,  5488,  5496,  5497,  5512,  5525,  5539,  5541,\n",
       "         5554,  5561,  5574,  5588,  5611,  5616,  5617,  5643,  5666,\n",
       "         5681,  5686,  5692,  5728,  5739,  5763,  5769,  5796,  5806,\n",
       "         5808,  5816,  5835,  5843,  5881,  5914,  5930,  5934,  5940,\n",
       "         5941,  5952,  5962,  5976,  5981,  5984,  5988,  6009,  6021,\n",
       "         6072,  6073,  6077,  6081,  6085,  6097,  6121,  6165,  6172,\n",
       "         6202,  6203,  6208,  6213,  6226,  6267,  6274,  6289,  6297,\n",
       "         6306,  6314,  6387,  6388,  6395,  6401,  6412,  6451,  6460,\n",
       "         6464,  6481,  6492,  6518,  6553,  6555,  6574,  6593,  6596,\n",
       "         6597,  6609,  6615,  6621,  6624,  6626,  6629,  6642,  6670,\n",
       "         6678,  6690,  6707,  6714,  6737,  6753,  6769,  6797,  6801,\n",
       "         6820,  6863,  6906,  6934,  6939,  6941,  6964,  7019,  7021,\n",
       "         7054,  7085,  7087,  7090,  7140,  7145,  7182,  7191,  7194,\n",
       "         7195,  7209,  7212,  7233,  7234,  7289,  7314,  7324,  7339,\n",
       "         7355,  7387,  7390,  7426,  7428,  7432,  7434,  7436,  7449,\n",
       "         7469,  7495,  7530,  7557,  7562,  7564,  7566,  7582,  7584,\n",
       "         7594,  7615,  7646,  7671,  7692,  7728,  7740,  7756,  7815,\n",
       "         7817,  7819,  7825,  7870,  7882,  7887,  7915,  7950,  7960,\n",
       "         7961,  7962,  7964,  7974,  7976,  8004,  8005,  8020,  8056,\n",
       "         8058,  8069,  8094,  8107,  8114,  8120,  8133,  8141,  8147,\n",
       "         8150,  8157,  8167,  8174,  8178,  8191,  8192,  8199,  8207,\n",
       "         8249,  8271,  8286,  8292,  8331,  8345,  8356,  8381,  8387,\n",
       "         8416,  8428,  8464,  8470,  8489,  8490,  8503,  8509,  8532,\n",
       "         8533,  8541,  8544,  8548,  8570,  8594,  8595,  8597,  8612,\n",
       "         8616,  8641,  8659,  8667,  8681,  8687,  8710,  8727,  8743,\n",
       "         8778,  8780,  8788,  8791,  8799,  8834,  8837,  8861,  8876,\n",
       "         8900,  8929,  8933,  8934,  8945,  8965,  8978,  8979,  8996,\n",
       "         9001,  9008,  9012,  9016,  9017,  9018,  9019,  9061,  9088,\n",
       "         9091,  9128,  9135,  9186,  9193,  9208,  9222,  9226,  9231,\n",
       "         9237,  9241,  9331,  9349,  9355,  9358,  9365,  9400,  9428,\n",
       "         9443,  9456,  9461,  9483,  9490,  9504,  9529,  9553,  9563,\n",
       "         9572,  9580,  9631,  9632,  9635,  9636,  9644,  9680,  9682,\n",
       "         9693,  9721,  9730,  9740,  9749,  9757,  9762,  9770,  9782,\n",
       "         9789,  9815,  9820,  9838,  9840,  9842,  9854,  9858,  9872,\n",
       "         9879,  9896,  9905,  9908,  9929,  9968,  9972,  9973,  9978,\n",
       "         9979,  9980,  9982,  9984,  9988,  9993, 10010, 10014, 10072,\n",
       "        10073, 10086, 10104, 10123, 10160, 10169, 10183, 10193, 10195,\n",
       "        10198, 10223, 10225, 10234, 10251], dtype=int64),)"
      ]
     },
     "execution_count": 16,
     "metadata": {},
     "output_type": "execute_result"
    }
   ],
   "source": [
    "detections = (cor_pois > cor_pois_L) & (cor_pois < cor_pois_H)\n",
    "np.where(detections==False)"
   ]
  },
  {
   "cell_type": "code",
   "execution_count": 18,
   "metadata": {},
   "outputs": [
    {
     "data": {
      "text/plain": [
       "<matplotlib.image.AxesImage at 0x277e47c25e0>"
      ]
     },
     "execution_count": 18,
     "metadata": {},
     "output_type": "execute_result"
    },
    {
     "data": {
      "image/png": "[encoded data removed]",
      "text/plain": [
       "<Figure size 432x288 with 1 Axes>"
      ]
     },
     "metadata": {
      "needs_background": "light"
     },
     "output_type": "display_data"
    }
   ],
   "source": [
    "plt.imshow(x_pois[9982])"
   ]
  }
 ],
 "metadata": {
  "kernelspec": {
   "display_name": "Python 3",
   "language": "python",
   "name": "python3"
  },
  "language_info": {
   "codemirror_mode": {
    "name": "ipython",
    "version": 3
   },
   "file_extension": ".py",
   "mimetype": "text/x-python",
   "name": "python",
   "nbconvert_exporter": "python",
   "pygments_lexer": "ipython3",
   "version": "3.8.5"
  }
 },
 "nbformat": 4,
 "nbformat_minor": 4
}
